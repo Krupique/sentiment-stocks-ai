{
 "cells": [
  {
   "cell_type": "markdown",
   "metadata": {},
   "source": [
    "# Exploratory Analysis"
   ]
  },
  {
   "cell_type": "markdown",
   "metadata": {},
   "source": []
  },
  {
   "cell_type": "code",
   "execution_count": 3,
   "metadata": {},
   "outputs": [],
   "source": [
    "# Imports\n",
    "import requests\n",
    "import json\n",
    "import yfinance as yf\n",
    "import numpy as np\n",
    "from openai import OpenAI\n",
    "from newsapi import NewsApiClient "
   ]
  },
  {
   "cell_type": "code",
   "execution_count": 7,
   "metadata": {},
   "outputs": [
    {
     "name": "stdout",
     "output_type": "stream",
     "text": [
      "\n",
      "Project AI Investing - Using LLMs for Investment Analytics\n"
     ]
    }
   ],
   "source": [
    "print(\"\\nProject AI Investing - Using LLMs for Investment Analytics\")\n",
    "\n",
    "# Setting the secret keys\n",
    "secret_key = '../ignore/keys.json'\n",
    "\n",
    "# Open and read Json file\n",
    "with open(secret_key, 'r', encoding='utf-8') as file:\n",
    "    key = json.load(file)\n",
    "\n",
    "\n",
    "\n",
    "client = OpenAI(api_key = key['gpt'])\n",
    "newsapi = NewsApiClient(api_key = key['news_api'])"
   ]
  },
  {
   "cell_type": "code",
   "execution_count": 36,
   "metadata": {},
   "outputs": [],
   "source": [
    "# Function to get news about a specific company\n",
    "def collect_news(company_name):\n",
    "    # Makes a request to the NewsAPI to get articles about the company, in Portuguese and sorted by relevance\n",
    "    all_articles = newsapi.get_everything(q = company_name,\n",
    "    language = 'en',\n",
    "    sort_by = 'relevancy',\n",
    "    page_size = 20)\n",
    "\n",
    "    # Initializes a list to store the news titles\n",
    "    news_list = []\n",
    "\n",
    "    # Goes through all the articles returned by the API\n",
    "    for article in all_articles['articles']:\n",
    "        # Extracts the title of each article\n",
    "        title = article['title']\n",
    "\n",
    "        # Checks if the title is not empty and if it does not contain '[Removed]'\n",
    "        if title and '[Removed]' not in title:\n",
    "            # Adds the valid title to the news list\n",
    "            news_list.append(title)\n",
    "\n",
    "    # Returns the list of news titles\n",
    "    return news_list"
   ]
  },
  {
   "cell_type": "code",
   "execution_count": 37,
   "metadata": {},
   "outputs": [],
   "source": [
    "# Function to get stock data using the yfinance library\n",
    "def collect_stock_data(ticker):\n",
    "\n",
    "    # Creates a Ticker object for the specified stock\n",
    "    stock = yf.Ticker(ticker)\n",
    "\n",
    "    # Gets historical stock data for the last month\n",
    "    data = stock.history(period='1mo')\n",
    "\n",
    "    # Returns historical stock data\n",
    "    return data"
   ]
  },
  {
   "cell_type": "code",
   "execution_count": 38,
   "metadata": {},
   "outputs": [],
   "source": [
    "# Function to analyze the sentiment of a list of news items\n",
    "def analyze_sentiment(company_name, news_list):\n",
    "\n",
    "    # Initialize a list to store the sentiments of the news items\n",
    "    sentiments = []\n",
    "\n",
    "    # Loop through each news item in the news item list\n",
    "    for news in news_list:\n",
    "\n",
    "        # Set a prompt for the GPT model to analyze the sentiment of the news item title\n",
    "        prompt = f\"Classify the sentiment of the following news item title about {company_name} as 'positive', 'negative', or 'neutral': \\\"{news}\\\"\"\n",
    "\n",
    "        # Send the prompt to the AI ​​model and get the response\n",
    "        response = client.chat.completions.create(model = \"gpt-4o\",\n",
    "        messages = [\n",
    "            {\"role\": \"user\", \"content\": prompt}],\n",
    "            temperature = 0.2)\n",
    "\n",
    "        # Extract the content of the response and convert it to lowercase\n",
    "        sentiment = response.choices[0].message.content.strip().lower()\n",
    "\n",
    "        # Check if sentiment is 'positive', 'negative' or 'neutral' and adds it to the list\n",
    "        if sentiment in ['positive', 'negative', 'neutral']:\n",
    "            sentiments.append(sentiment)\n",
    "        else:\n",
    "            # Add 'neutral' if sentiment is not identified\n",
    "            sentiments.append('neutral')\n",
    "\n",
    "    # Returns the list of sentiments\n",
    "    return sentiments"
   ]
  },
  {
   "cell_type": "code",
   "execution_count": 39,
   "metadata": {},
   "outputs": [],
   "source": [
    "# Function to convert text sentiments to numeric values\n",
    "def convert_sentiment_to_numerical(sentiments):\n",
    "\n",
    "    # Initialize a list to store numeric sentiment scores\n",
    "    sentiment_scores = []\n",
    "\n",
    "    # Loop through each sentiment in the sentiment list\n",
    "    for sentiment in sentiments:\n",
    "\n",
    "        # Assign 1 for 'positive'\n",
    "        if 'positive' in sentiment:\n",
    "            sentiment_scores.append(1)\n",
    "\n",
    "        # Assign -1 for 'negative'\n",
    "        elif 'negative' in sentiment:\n",
    "            sentiment_scores.append(-1)\n",
    "\n",
    "        # Assign 0 for 'neutral'\n",
    "        else:\n",
    "            sentiment_scores.append(0)\n",
    "\n",
    "    # Returns the list of numeric scores\n",
    "    return sentiment_scores"
   ]
  },
  {
   "cell_type": "code",
   "execution_count": 40,
   "metadata": {},
   "outputs": [],
   "source": [
    "# Function to make a decision based on stock data and sentiment\n",
    "def make_decision(stock_data, sentiment_scores):\n",
    "\n",
    "    # Calculates the daily percentage change in the stock's closing price\n",
    "    stock_data['Pct_Change'] = stock_data['Close'].pct_change()\n",
    "\n",
    "    # Get the most recent percentage change\n",
    "    recent_change = stock_data['Pct_Change'].iloc[-1]\n",
    "\n",
    "    # Calculates the average of sentiments if there are values ​​in the list\n",
    "    if sentiment_scores:\n",
    "        avg_sentiment = np.mean(sentiment_scores)\n",
    "    else:\n",
    "        # Sets 0 as default value if the list is empty\n",
    "        avg_sentiment = 0\n",
    "\n",
    "    # Sets the decision based on sentiment values ​​and price change\n",
    "    if avg_sentiment > 0 and recent_change > 0:\n",
    "        decision = 'Buy'\n",
    "    elif avg_sentiment < 0 and recent_change < 0:\n",
    "        decision = 'Sell'\n",
    "    else:\n",
    "        decision = 'Keep'\n",
    "\n",
    "    # Returns the final decision\n",
    "    return decision"
   ]
  },
  {
   "cell_type": "code",
   "execution_count": 41,
   "metadata": {},
   "outputs": [
    {
     "name": "stdout",
     "output_type": "stream",
     "text": [
      "\n",
      "Number of news items retrieved: 6\n",
      "\n",
      "The AI ​​Investing Robot is Working. Please wait!\n",
      "\n"
     ]
    }
   ],
   "source": [
    "input = {\n",
    "    \"company_name\":'Apple',\n",
    "    \"ticker\":'AAPL'\n",
    "}\n",
    "\n",
    "\n",
    "# Get the news about Apple\n",
    "news = collect_news(input[\"company_name\"])\n",
    "\n",
    "# Display the number of news items retrieved and the list of news items\n",
    "print(f\"\\nNumber of news items retrieved: {len(news)}\")\n",
    "\n",
    "print(\"\\nThe AI ​​Investing Robot is Working. Please wait!\\n\")"
   ]
  },
  {
   "cell_type": "code",
   "execution_count": 42,
   "metadata": {},
   "outputs": [
    {
     "name": "stdout",
     "output_type": "stream",
     "text": [
      "Sentiment: neutral \t How to Use Apple’s Genmoji to Create New Kinds of Emojis\n",
      "Sentiment: positive \t Netflix finally decides to play nice and support the Apple TV app\n",
      "Sentiment: positive \t The 4.8-Star-Rated 2024 15-Inch Apple MacBook Air Is $250 Off on Amazon for MLK Weekend\n",
      "Sentiment: neutral \t Apple is pausing notification summaries for news in the latest iOS 18.3 beta\n",
      "Sentiment: neutral \t I’m Obsessed With J.D. Vance’s Apple Watch\n",
      "Sentiment: neutral \t Samsung borrows from the Apple Wallet playbook with layaway and tap-to-send for Wallet\n",
      "\n",
      "Investment Decision: Buy\n",
      "\n",
      "Thanks for Using Sentiment Stocks AI - Come Back Soon!\n",
      "\n"
     ]
    }
   ],
   "source": [
    "# Check for news to analyze\n",
    "if not news:\n",
    "    # Set 'Keep' as default decision if there is no news\n",
    "    print(\"No news was retrieved.\")\n",
    "    decision = 'Keep'\n",
    "\n",
    "else:\n",
    "    # Analyze the sentiment of the news\n",
    "    sentiments = analyze_sentiment(company_name=input[\"company_name\"], news_list=news)\n",
    "\n",
    "    # Display the analyzed sentiments\n",
    "    for i in range(len(sentiments)):\n",
    "        print(\"Sentiment: {} \\t {}\".format(sentiments[i], news[i]))\n",
    "\n",
    "    # Convert the sentiments into numeric values\n",
    "    sentiment_scores = convert_sentiment_to_numerical(sentiments)\n",
    "\n",
    "    # Make a decision based on the stock data and sentiments\n",
    "    decision = make_decision(collect_stock_data(input[\"ticker\"]), sentiment_scores)\n",
    "\n",
    "    # Display the final decision\n",
    "    print(f\"\\nInvestment Decision: {decision}\")\n",
    "\n",
    "    print(\"\\nThanks for Using Sentiment Stocks AI - Come Back Soon!\\n\")"
   ]
  }
 ],
 "metadata": {
  "kernelspec": {
   "display_name": ".venv",
   "language": "python",
   "name": "python3"
  },
  "language_info": {
   "codemirror_mode": {
    "name": "ipython",
    "version": 3
   },
   "file_extension": ".py",
   "mimetype": "text/x-python",
   "name": "python",
   "nbconvert_exporter": "python",
   "pygments_lexer": "ipython3",
   "version": "3.12.7"
  }
 },
 "nbformat": 4,
 "nbformat_minor": 2
}
